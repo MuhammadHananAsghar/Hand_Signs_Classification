{
 "cells": [
  {
   "cell_type": "code",
   "execution_count": 1,
   "id": "0af21f9e",
   "metadata": {},
   "outputs": [],
   "source": [
    "import mediapipe as mp\n",
    "import numpy as np\n",
    "from matplotlib import pyplot as plt\n",
    "import cv2"
   ]
  },
  {
   "cell_type": "code",
   "execution_count": 2,
   "id": "b2e63531",
   "metadata": {},
   "outputs": [],
   "source": [
    "mp_drawings = mp.solutions.drawing_utils\n",
    "mp_hands = mp.solutions.hands"
   ]
  },
  {
   "cell_type": "code",
   "execution_count": 61,
   "id": "f9e313e2",
   "metadata": {},
   "outputs": [],
   "source": [
    "def HandTracker():\n",
    "    \"\"\"\n",
    "    Function that returns hand tracker object\n",
    "    \"\"\"\n",
    "    mp_drawings = mp.solutions.drawing_utils\n",
    "    mp_hands = mp.solutions.hands\n",
    "    hand_tracker = mp_hands.Hands(max_num_hands=1, min_detection_confidence=0.8, min_tracking_confidence=0.5)\n",
    "    return hand_tracker"
   ]
  },
  {
   "cell_type": "code",
   "execution_count": 62,
   "id": "02659cf9",
   "metadata": {},
   "outputs": [],
   "source": [
    "hand_tracker = HandTracker()"
   ]
  },
  {
   "cell_type": "code",
   "execution_count": 63,
   "id": "a1edb02a",
   "metadata": {},
   "outputs": [],
   "source": [
    "def drawLandMarks(results, image):\n",
    "    \"\"\"\n",
    "    Function that draws land marks\n",
    "    \"\"\"\n",
    "    mp_drawings = mp.solutions.drawing_utils\n",
    "    mp_hands = mp.solutions.hands\n",
    "    if results.multi_hand_landmarks:\n",
    "        for num, hand in enumerate(results.multi_hand_landmarks):\n",
    "            mp_drawings.draw_landmarks(image, hand, mp_hands.HAND_CONNECTIONS,\n",
    "            # Joints Color\n",
    "            mp_drawings.DrawingSpec(color=(121, 22, 76), thickness=2, circle_radius=4),\n",
    "            # Line Color\n",
    "            mp_drawings.DrawingSpec(color=(121, 44, 250), thickness=2, circle_radius=2))\n",
    "    return image"
   ]
  },
  {
   "cell_type": "code",
   "execution_count": 60,
   "id": "42882a7e",
   "metadata": {},
   "outputs": [],
   "source": [
    "stream = cv2.VideoCapture(0)\n",
    "\n",
    "while stream.isOpened():\n",
    "    ret, frame = stream.read()\n",
    "    \n",
    "    image = cv2.flip(frame, 1)\n",
    "    image = cv2.cvtColor(image, cv2.COLOR_BGR2RGB)\n",
    "    image.flags.writeable = False\n",
    "    results = hand_tracker.process(image)\n",
    "    image.flags.writeable = True\n",
    "    image = cv2.cvtColor(image, cv2.COLOR_RGB2BGR)\n",
    "    image = drawLandMarks(results, image)\n",
    "    cv2.imshow(\"Data Collection\", image)\n",
    "    \n",
    "    if cv2.waitKey(1) & 0xFF == ord('q'):\n",
    "        break\n",
    "\n",
    "stream.release()\n",
    "cv2.destroyAllWindows()"
   ]
  },
  {
   "cell_type": "code",
   "execution_count": 64,
   "id": "cffe77ed",
   "metadata": {},
   "outputs": [],
   "source": [
    "def extract_keypoints(results):\n",
    "    '''\n",
    "    Extract Hand Keypoints\n",
    "    '''\n",
    "    hd_keypoints = np.array([[res.x, res.y, res.z] for res in results.multi_hand_landmarks[0].landmark]).flatten() if results.multi_hand_landmarks else np.zeros(21*3)\n",
    "    return hd_keypoints"
   ]
  },
  {
   "cell_type": "code",
   "execution_count": 8,
   "id": "0b764e7e",
   "metadata": {},
   "outputs": [],
   "source": [
    "# result_test = extract_keypoints(results)"
   ]
  },
  {
   "cell_type": "code",
   "execution_count": 17,
   "id": "a85ccf19",
   "metadata": {},
   "outputs": [],
   "source": [
    "!rm -rf \"Hand Numbers\"\n",
    "!mkdir \"Hand Numbers\""
   ]
  },
  {
   "cell_type": "code",
   "execution_count": 18,
   "id": "ecfd5eb2",
   "metadata": {},
   "outputs": [],
   "source": [
    "import os"
   ]
  },
  {
   "cell_type": "code",
   "execution_count": 95,
   "id": "2ef7ad10",
   "metadata": {},
   "outputs": [],
   "source": [
    "# Path for exported data, numpy arrays\n",
    "DATA_PATH = os.path.join(os.getcwd() ,'Hand Numbers') \n",
    "\n",
    "# Actions that we try to detect\n",
    "# actions = np.array(['0', '1', '2', '3', '4', '5', '6', '7', '8', '9', 'dot', 'plus', 'minus', 'divide', 'multiply', 'equal'])\n",
    "# actions = np.array(['equal'])\n",
    "\n",
    "# Thirty videos worth of data\n",
    "no_sequences = 500\n",
    "\n",
    "# Videos are going to be 30 frames in length\n",
    "sequence_length = 5"
   ]
  },
  {
   "cell_type": "code",
   "execution_count": 96,
   "id": "6522fd3d",
   "metadata": {},
   "outputs": [
    {
     "data": {
      "text/plain": [
       "array(['equal'], dtype='<U5')"
      ]
     },
     "execution_count": 96,
     "metadata": {},
     "output_type": "execute_result"
    }
   ],
   "source": [
    "actions"
   ]
  },
  {
   "cell_type": "code",
   "execution_count": 92,
   "id": "e7581d5d",
   "metadata": {},
   "outputs": [],
   "source": [
    "for action in actions: \n",
    "    for sequence in range(no_sequences):\n",
    "        try: \n",
    "            os.makedirs(os.path.join(DATA_PATH, action, str(sequence)))\n",
    "        except:\n",
    "            pass"
   ]
  },
  {
   "cell_type": "code",
   "execution_count": null,
   "id": "d8315862",
   "metadata": {},
   "outputs": [],
   "source": [
    "stream = cv2.VideoCapture(0)\n",
    "\n",
    "for action in actions:\n",
    "    for sequence in range(no_sequences):\n",
    "        for frame_num in range(sequence_length):\n",
    "            ret, frame = stream.read()\n",
    "    \n",
    "            image = cv2.flip(frame, 1)\n",
    "            image = cv2.cvtColor(image, cv2.COLOR_BGR2RGB)\n",
    "            image.flags.writeable = False\n",
    "            results = hand_tracker.process(image)\n",
    "            image.flags.writeable = True\n",
    "            image = cv2.cvtColor(image, cv2.COLOR_RGB2BGR)\n",
    "            image = drawLandMarks(results, image)\n",
    "            if frame_num == 0:\n",
    "                cv2.putText(image, 'STARTING COLLECTION', (120,200), \n",
    "                               cv2.FONT_HERSHEY_SIMPLEX, 1, (0,255, 0), 4, cv2.LINE_AA)\n",
    "                cv2.putText(image, 'Collecting frames for {} Video Number {}'.format(action, sequence), (15,12), \n",
    "                               cv2.FONT_HERSHEY_SIMPLEX, 0.5, (0, 0, 255), 1, cv2.LINE_AA)\n",
    "                # Show to screen\n",
    "                cv2.imshow('Data Collection', image)\n",
    "            else:\n",
    "                cv2.putText(image, 'Collecting frames for {} Video Number {}'.format(action, sequence), (15,12), \n",
    "                               cv2.FONT_HERSHEY_SIMPLEX, 0.5, (0, 0, 255), 1, cv2.LINE_AA)\n",
    "                # Show to screen\n",
    "                cv2.imshow('Data Collection', image)\n",
    "                \n",
    "            # NEW Export keypoints\n",
    "            keypoints = extract_keypoints(results)\n",
    "            npy_path = os.path.join(DATA_PATH, action, str(sequence), str(frame_num))\n",
    "            np.save(npy_path, keypoints)\n",
    "            \n",
    "            if cv2.waitKey(1) & 0xFF == ord('q'):\n",
    "                break\n",
    "\n",
    "    stream.release()\n",
    "    cv2.destroyAllWindows()"
   ]
  },
  {
   "cell_type": "code",
   "execution_count": null,
   "id": "bc94cb3e",
   "metadata": {},
   "outputs": [],
   "source": []
  }
 ],
 "metadata": {
  "kernelspec": {
   "display_name": "Python 3 (ipykernel)",
   "language": "python",
   "name": "python3"
  },
  "language_info": {
   "codemirror_mode": {
    "name": "ipython",
    "version": 3
   },
   "file_extension": ".py",
   "mimetype": "text/x-python",
   "name": "python",
   "nbconvert_exporter": "python",
   "pygments_lexer": "ipython3",
   "version": "3.9.7"
  }
 },
 "nbformat": 4,
 "nbformat_minor": 5
}
